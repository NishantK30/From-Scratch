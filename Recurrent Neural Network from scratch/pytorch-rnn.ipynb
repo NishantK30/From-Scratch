{
 "cells": [
  {
   "cell_type": "code",
   "execution_count": 1,
   "metadata": {},
   "outputs": [],
   "source": [
    "import numpy as np\n",
    "import pandas as pd\n",
    "from sklearn.preprocessing import StandardScaler\n",
    "from sklearn.model_selection import train_test_split\n",
    "import torch\n"
   ]
  },
  {
   "cell_type": "code",
   "execution_count": 2,
   "metadata": {},
   "outputs": [],
   "source": [
    "data = pd.read_csv(\"clean_weather.csv\")\n",
    "data = data.ffill()\n"
   ]
  },
  {
   "cell_type": "code",
   "execution_count": 3,
   "metadata": {},
   "outputs": [],
   "source": [
    "DEVICE=  torch.device(\"cuda\" if torch.cuda.is_available() else \"cpu\")"
   ]
  },
  {
   "cell_type": "code",
   "execution_count": 30,
   "metadata": {},
   "outputs": [],
   "source": [
    "from torch.utils.data import DataLoader,Dataset\n",
    "\n",
    "class TimeSeriesDataset(Dataset):\n",
    "    def __init__(self, data, sequence_length):\n",
    "        self.data = data\n",
    "        self.sequence_length = sequence_length\n",
    "        \n",
    "    def __len__(self):\n",
    "        return len(self.data) - self.sequence_length\n",
    "        \n",
    "    def __getitem__(self, idx):\n",
    "        # Get sequence of data\n",
    "        sequence = self.data[idx:idx + self.sequence_length]\n",
    "        return sequence\n",
    "\n",
    "def transform(data,batch_size,sequence_len,device,dtype=torch.float32):\n",
    "    \n",
    "    data_tensor = torch.tensor(data,dtype=dtype,device=device)\n",
    "    dataset = TimeSeriesDataset(data_tensor,sequence_len)\n",
    "    \n",
    "    dataloader = DataLoader(dataset,batch_size,shuffle=False)\n",
    "    \n",
    "    return dataloader\n",
    "    "
   ]
  },
  {
   "cell_type": "code",
   "execution_count": 31,
   "metadata": {},
   "outputs": [],
   "source": [
    "# Assuming 'date' is your date column and data is sorted by date\n",
    "from sklearn.preprocessing import StandardScaler\n",
    "\n",
    "predictors = [\"tmax\", \"tmin\", \"rain\"]\n",
    "target = \"tmax_tomorrow\"\n",
    "\n",
    "# Calculate split points\n",
    "total_rows = len(data)\n",
    "train_end = int(0.7 * total_rows)\n",
    "valid_end = int(0.85 * total_rows)\n",
    "\n",
    "# Split the data\n",
    "X_train = data[predictors].iloc[:train_end]\n",
    "y_train = data[target].iloc[:train_end]\n",
    "\n",
    "X_valid = data[predictors].iloc[train_end:valid_end]\n",
    "y_valid = data[target].iloc[train_end:valid_end]\n",
    "\n",
    "X_test = data[predictors].iloc[valid_end:]\n",
    "y_test = data[target].iloc[valid_end:]\n",
    "\n",
    "# Scale the features\n",
    "scaler = StandardScaler()\n",
    "X_train_scaled = scaler.fit_transform(X_train)\n",
    "X_valid_scaled = scaler.transform(X_valid)\n",
    "X_test_scaled = scaler.transform(X_test)\n",
    "\n",
    "# Convert to a dataloader object with batch_size\n",
    "\n",
    "X_train_scaled = np.array(X_train_scaled)\n",
    "X_valid_scaled = np.array(X_valid_scaled)\n",
    "X_test_scaled = np.array(X_test_scaled)\n",
    "\n",
    "#We dont scale target data check on google for more info on why\n",
    "y_train = np.array(y_train)\n",
    "y_valid = np.array(y_valid)\n",
    "y_test = np.array(y_test)"
   ]
  },
  {
   "cell_type": "code",
   "execution_count": 32,
   "metadata": {},
   "outputs": [],
   "source": [
    "x_train = transform(X_train_scaled,32,7,DEVICE)\n",
    "x_valid = transform(X_train_scaled,32,7,DEVICE)\n",
    "x_test = transform(X_test_scaled,32,7,DEVICE)\n",
    "y_train = transform(y_train,32,7,DEVICE)\n",
    "y_valid = transform(y_valid,32,7,DEVICE)"
   ]
  },
  {
   "cell_type": "code",
   "execution_count": 33,
   "metadata": {},
   "outputs": [
    {
     "data": {
      "text/plain": [
       "<torch.utils.data.dataloader.DataLoader at 0x7f5e24131310>"
      ]
     },
     "execution_count": 33,
     "metadata": {},
     "output_type": "execute_result"
    }
   ],
   "source": []
  },
  {
   "cell_type": "code",
   "execution_count": null,
   "metadata": {},
   "outputs": [],
   "source": []
  }
 ],
 "metadata": {
  "kernelspec": {
   "display_name": "torchenv",
   "language": "python",
   "name": "python3"
  },
  "language_info": {
   "codemirror_mode": {
    "name": "ipython",
    "version": 3
   },
   "file_extension": ".py",
   "mimetype": "text/x-python",
   "name": "python",
   "nbconvert_exporter": "python",
   "pygments_lexer": "ipython3",
   "version": "3.12.8"
  }
 },
 "nbformat": 4,
 "nbformat_minor": 2
}
